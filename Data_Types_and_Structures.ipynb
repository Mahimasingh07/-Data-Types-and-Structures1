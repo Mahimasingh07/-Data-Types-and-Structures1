{
  "nbformat": 4,
  "nbformat_minor": 0,
  "metadata": {
    "colab": {
      "provenance": []
    },
    "kernelspec": {
      "name": "python3",
      "display_name": "Python 3"
    },
    "language_info": {
      "name": "python"
    }
  },
  "cells": [
    {
      "cell_type": "markdown",
      "source": [
        "# What are data structures, and why are they important?\n",
        "  -Data structures are specialized formats for organizing, storing, and accessing collections of data.\n",
        "They provide efficient ways to manage information based on its characteristics and intended use.\n",
        "# Importance of data structures:-\n",
        "  1.Choosing the right data structure significantly impacts the efficiency and performance of your program.\n",
        "  2.well-chosen data strutures can simplifiy data manipulation(adding,romoving,modifying elements).\n",
        "  3.Optimize searching and sorting operations.\n",
        "  4.It conserve memory usage.\n",
        "#  Explain the difference between mutable and immutable data types with examples?\n",
        "  -\"**Mutable Data Type**\":- This type of data can be modified or  changed after creating.Examples of mutable data- Lists, Dictionaries,Sets.\n",
        "\n"
      ],
      "metadata": {
        "id": "kH3GZhAGNpmc"
      }
    },
    {
      "cell_type": "code",
      "source": [
        "# list:\n",
        "a = [1,2,3]\n",
        "a.append(4)\n",
        "print(a)\n"
      ],
      "metadata": {
        "colab": {
          "base_uri": "https://localhost:8080/"
        },
        "id": "YOeO5tPzT8AN",
        "outputId": "9948961b-3568-47ec-c9e4-1b664c7e6c13"
      },
      "execution_count": null,
      "outputs": [
        {
          "output_type": "stream",
          "name": "stdout",
          "text": [
            "[1, 2, 3, 4]\n"
          ]
        }
      ]
    },
    {
      "cell_type": "code",
      "source": [
        "# Dictionary:\n",
        "my_dict = {\"name\": \"Mahima Singh\", \"age\": 24}\n",
        "my_dict[\"city\"] = \"Pilibhit\"\n",
        "print(my_dict)"
      ],
      "metadata": {
        "colab": {
          "base_uri": "https://localhost:8080/"
        },
        "id": "BzIdpEpzU0uN",
        "outputId": "ee11dc7a-2350-4f01-91d0-040e29985ee8"
      },
      "execution_count": 1,
      "outputs": [
        {
          "output_type": "stream",
          "name": "stdout",
          "text": [
            "{'name': 'Mahima Singh', 'age': 24, 'city': 'Pilibhit'}\n"
          ]
        }
      ]
    },
    {
      "cell_type": "code",
      "source": [
        "# Sets:\n",
        "my_set = {1, 2, 3}\n",
        "my_set.add(4)\n",
        "print(my_set)"
      ],
      "metadata": {
        "colab": {
          "base_uri": "https://localhost:8080/"
        },
        "id": "WZLN8U-1VbIe",
        "outputId": "53dddd37-82f7-4a98-aafa-f5d3c3d59bed"
      },
      "execution_count": null,
      "outputs": [
        {
          "output_type": "stream",
          "name": "stdout",
          "text": [
            "{1, 2, 3, 4}\n"
          ]
        }
      ]
    },
    {
      "cell_type": "markdown",
      "source": [
        "**Immutable data types**:- This type data can't be modified or changed after they are created.for example- Strings,Tuples.\n"
      ],
      "metadata": {
        "id": "rJNJ5VqgVoUh"
      }
    },
    {
      "cell_type": "code",
      "source": [
        "# Tuples:\n",
        "my_tuple = (1, 2, 3)\n",
        "my_tuple [0]=(4)\n",
        "print(my_tuple)"
      ],
      "metadata": {
        "colab": {
          "base_uri": "https://localhost:8080/",
          "height": 193
        },
        "collapsed": true,
        "id": "BtXX785oXZTh",
        "outputId": "7ae42f06-925f-40aa-8f6c-086032c1d5bb"
      },
      "execution_count": null,
      "outputs": [
        {
          "output_type": "error",
          "ename": "TypeError",
          "evalue": "'tuple' object does not support item assignment",
          "traceback": [
            "\u001b[0;31m---------------------------------------------------------------------------\u001b[0m",
            "\u001b[0;31mTypeError\u001b[0m                                 Traceback (most recent call last)",
            "\u001b[0;32m<ipython-input-11-95d0a68f77b4>\u001b[0m in \u001b[0;36m<cell line: 0>\u001b[0;34m()\u001b[0m\n\u001b[1;32m      1\u001b[0m \u001b[0;31m# Tuples:\u001b[0m\u001b[0;34m\u001b[0m\u001b[0;34m\u001b[0m\u001b[0m\n\u001b[1;32m      2\u001b[0m \u001b[0mmy_tuple\u001b[0m \u001b[0;34m=\u001b[0m \u001b[0;34m(\u001b[0m\u001b[0;36m1\u001b[0m\u001b[0;34m,\u001b[0m \u001b[0;36m2\u001b[0m\u001b[0;34m,\u001b[0m \u001b[0;36m3\u001b[0m\u001b[0;34m)\u001b[0m\u001b[0;34m\u001b[0m\u001b[0;34m\u001b[0m\u001b[0m\n\u001b[0;32m----> 3\u001b[0;31m \u001b[0mmy_tuple\u001b[0m\u001b[0;34m[\u001b[0m\u001b[0;36m0\u001b[0m\u001b[0;34m]\u001b[0m\u001b[0;34m=\u001b[0m\u001b[0;34m(\u001b[0m\u001b[0;36m4\u001b[0m\u001b[0;34m)\u001b[0m\u001b[0;34m\u001b[0m\u001b[0;34m\u001b[0m\u001b[0m\n\u001b[0m\u001b[1;32m      4\u001b[0m \u001b[0mprint\u001b[0m\u001b[0;34m(\u001b[0m\u001b[0mmy_tuple\u001b[0m\u001b[0;34m)\u001b[0m\u001b[0;34m\u001b[0m\u001b[0;34m\u001b[0m\u001b[0m\n",
            "\u001b[0;31mTypeError\u001b[0m: 'tuple' object does not support item assignment"
          ]
        }
      ]
    },
    {
      "cell_type": "code",
      "source": [
        "# String:\n",
        "x = \"Hello World!\"\n",
        "x[0] =\"this is india\"\n",
        "print(x)"
      ],
      "metadata": {
        "colab": {
          "base_uri": "https://localhost:8080/",
          "height": 193
        },
        "collapsed": true,
        "id": "4NmNNDSoX5dA",
        "outputId": "84298936-34b6-46fd-878a-0127e6dcd2a2"
      },
      "execution_count": 9,
      "outputs": [
        {
          "output_type": "error",
          "ename": "TypeError",
          "evalue": "'str' object does not support item assignment",
          "traceback": [
            "\u001b[0;31m---------------------------------------------------------------------------\u001b[0m",
            "\u001b[0;31mTypeError\u001b[0m                                 Traceback (most recent call last)",
            "\u001b[0;32m<ipython-input-9-1e7f07ec9ed4>\u001b[0m in \u001b[0;36m<cell line: 0>\u001b[0;34m()\u001b[0m\n\u001b[1;32m      1\u001b[0m \u001b[0;31m# String:\u001b[0m\u001b[0;34m\u001b[0m\u001b[0;34m\u001b[0m\u001b[0m\n\u001b[1;32m      2\u001b[0m \u001b[0mx\u001b[0m \u001b[0;34m=\u001b[0m \u001b[0;34m\"Hello World!\"\u001b[0m\u001b[0;34m\u001b[0m\u001b[0;34m\u001b[0m\u001b[0m\n\u001b[0;32m----> 3\u001b[0;31m \u001b[0mx\u001b[0m \u001b[0;34m[\u001b[0m\u001b[0;36m0\u001b[0m\u001b[0;34m]\u001b[0m \u001b[0;34m=\u001b[0m\u001b[0;34m\"this is india\"\u001b[0m\u001b[0;34m\u001b[0m\u001b[0;34m\u001b[0m\u001b[0m\n\u001b[0m\u001b[1;32m      4\u001b[0m \u001b[0mprint\u001b[0m\u001b[0;34m(\u001b[0m\u001b[0mx\u001b[0m\u001b[0;34m)\u001b[0m\u001b[0;34m\u001b[0m\u001b[0;34m\u001b[0m\u001b[0m\n",
            "\u001b[0;31mTypeError\u001b[0m: 'str' object does not support item assignment"
          ]
        }
      ]
    },
    {
      "cell_type": "markdown",
      "source": [
        "# What are the main differences between lists and tuples in Python?\n",
        "  -The main differences between lists and tuples lies in their mutability in python.\n",
        "  **lists**:- lists are mutable their data can be changed after creating.\n",
        "  1. list is defined by square brackets[].\n",
        "  2. their memory genrally higher.\n",
        "  3.thier performance could be slower for some operations due to mutablity.\n",
        "  4.Use case- Easy to modify when needed.\n",
        "  **Tuples**:- tuples are immutable,thier data can't be changed.\n",
        "  1. tuples are defined using parentheses().\n",
        "  2.Their memory genrally lower.\n",
        "  3.tuples performance genrally faster.\n",
        "  4. Use case- Ensure data integrity and prevent accidental changes.\n",
        "#Describe how dictionaries store data?\n",
        "  -Dictionaries are a fundamental data structure in python.They store data in the form of unique key-value pairs.\n",
        "  1.Unordered collections:-Elements are not stored in a specific order.\n",
        "  2.Unique key-vlaue pairs:Each key acts as a unique identifier for retrieving an associated value.\n",
        "  3.Flexible data:keys and values can be of various data type such as -strigs,numbers,lists etc.\n",
        "\n",
        "  **How dictionaries work**:\n",
        "  1. Hashing- when we create dictionaries,Python uses a hashing function to convert each key into a unique integer value called a hash value.\n",
        "  2. Hash Table- After hashing dictionary uses a hash table to store key-value pairs.\n",
        "  3. Storage- The hash table typically consists of an array of slots or buckets.The hash value of a key determines which bucket the key-value pair will be stored in.\n",
        "  4. Collision Handling- If two different keys happen to have the same hash value,Python uses techniques like chainging or open addressing to resolve the collision.\n",
        "# Why might you use a set instead of a list in Python?\n",
        "  -Sets are a valuable data structure in python,especially when required to deal with unique elements,perform fast membership cheaks,or utilize set operations go with sets intead of lists.\n",
        "  **Use case of Sets:**\n",
        "  1. Unique Elements- to ensure that your data contains only unique elements,sets are ideal.Sets automatically remove duplicates.\n",
        "  2. Membership Cheaks- If frequently requires to cheak that the data contains specific value exists withen a collection,sets offer very fast membership cheaks(o(1)time complexity).\n",
        "  3. Set operations: if we need to perform set operations like union,intersaction,difference,or symmetric differnce,sets provide built-in methods for these operation,making them efficent and concise.\n",
        "# What is a string in Python, and how is it different from a list?\n",
        "  -In Python,a string is a sequence of characters enclosed within (\" \"). Strings are immutable while Lists are mutable collections of elements enclosed in square brackets[].\n",
        "  Key differences:\n",
        "  1. Mutability- lists are mutable while Strings are immutable.\n",
        "  2. Date Type- Strings are specially for sequences of characters,while list and hold andy data type.\n",
        "  3. Indexing- both Strings and lists can be indexed, but lists allow for element modifications through idexing.\n",
        "# How do tuples ensure data integrity in Python?\n",
        "  -Tuples in Python ensure data integrity primarily through their immutability. This means that once a tuple is created, its elements cannot be changed, added, or removed. This prevents accidental or malicious modifications to the data, ensuring that it remains consistent and reliable.\n",
        "  **Integrity**:\n",
        "  1. Prevents Accidental Changes- tuples are immutable due to this the data within a tuple will remain unchanged throught the program's execution, unless it intentionally creates a new tuple with desired changes.\n",
        "  2. Enhances Security-  In situations where data security is critical, immutability can provide an additional layer of protection. By preventing modifications to sensitive data stored in tuples.\n",
        "  3. Improves Performance-Immutability allows Python to optimize the storage and retrieval of tuple data.\n",
        "  4. Enables Hashing-Immutability allows Python to optimize the storage and retrieval of tuple data.\n",
        "# What is a hash table, and how does it relate to dictionaries in Python?\n",
        "  Hash table:- A hash table is a data structure that uses a hash function to map keys to values.The hash function transforms the key into an integer, which is used as an index in an array. This allows for very fast lookups, insertions, and deletions.\n",
        "  **Dictionaries & hash**-  Hash tables are a fundamental data structure that underlies Python's dictionaries. They provide efficient and fast operations for storing and retrieving key-value pairs.\n",
        "  In python,dictionaries are implemented using hash tables.This means that they provide-\n",
        "  1. Fast lookups\n",
        "  2. Efficient insertions and deletions.\n",
        "  3. Unordered storage\n",
        "  "
      ],
      "metadata": {
        "id": "r5niIKNPaHJg"
      }
    },
    {
      "cell_type": "markdown",
      "source": [
        "# Can lists contain different data types in Python?\n",
        "  - Yes, lists in python can contain elements of different data types.for example-\n",
        "   In this list I have taken the following values-\n",
        "   1. \"Mahima Singh\"- A string value\n",
        "   2. 10- An integer value\n",
        "   3. 3.14- A flot value\n",
        "   4. True- A boolean value."
      ],
      "metadata": {
        "id": "w6Byb0c0wExX"
      }
    },
    {
      "cell_type": "code",
      "source": [
        "my_list = [\"Mahima Singh\",10,3.14,True]"
      ],
      "metadata": {
        "id": "a824BcDpwu3w"
      },
      "execution_count": 8,
      "outputs": []
    },
    {
      "cell_type": "markdown",
      "source": [
        "# Explain why strings are immutable in Python?\n",
        "  -There are some reasons why strings are immutable-\n",
        "  1. Efficiency: Immutable objects can be easily shared and cached,as they are guaranteed not to change.This can lead to significant performance gains in memory intensive applications.\n",
        "  2. Hashing: the hash of an immutable object remains constant,which is efficient dictionary lookups.\n",
        "  3. Thread Safety: Strings can't be modified concurrently,so they are inherently thread safe."
      ],
      "metadata": {
        "id": "RxPy4NlzyDic"
      }
    },
    {
      "cell_type": "markdown",
      "source": [
        "# What advantages do dictionaries offer over lists for certain tasks?\n",
        "  -Dictionaries offer several advantages over lists in certain tasks due to their key-value pair structure and underlying hash table implementation such as-\n",
        " **Fast Lookups**\n",
        "  1. Key-based Access: Dictionaries use keys to directly access values.\n",
        "  2. Lists Require Sequential Search: In contrast, lists require sequential searching to find a specific element.\n",
        "  **Efficient Data Retrieval**\n",
        "  1. direct Access\n",
        "  2. lists require indexing\n",
        "  **Natural Representation for Certain Data**\n",
        "  1. key value pairs\n",
        "  **Flexibility**- dictionaries can grow or shrink dynamically.\n"
      ],
      "metadata": {
        "id": "gme4uQlf0iFg"
      }
    },
    {
      "cell_type": "markdown",
      "source": [
        "# Describe a scenario where using a tuple would be preferable over a list.\n",
        "  -There are many scenarios where using a tuple over a list would be a good choice such as-\n",
        "\n",
        "  **Storing fixed coordinate points**: suppose we are devloping a game where certain objects are immovable, they have fixed positions on the game board in this case we would prefer tuple rather than lists.Because tuples are immutable also tuple provide hashing.\n"
      ],
      "metadata": {
        "id": "wL0D2HDh5qxD"
      }
    },
    {
      "cell_type": "markdown",
      "source": [
        "#  How do sets handle duplicate values in Python?\n",
        "  -In Python, Sets inherently handle duplicate values by automatically removing them.\n",
        "  **Working of Sets**\n",
        "  1. A set is a collection of unique elements. it uses Unique Elements.\n",
        "  2. Sets removes dublicate values that are present in the intial data are automatically eliminated.\n",
        "\n",
        "  For example:"
      ],
      "metadata": {
        "id": "Mqs1jKt38Yij"
      }
    },
    {
      "cell_type": "code",
      "source": [
        "x = [1,2,2,2,2,3,3,4,4,4,4,4,]\n",
        "y = set(x)\n",
        "print(y)"
      ],
      "metadata": {
        "colab": {
          "base_uri": "https://localhost:8080/"
        },
        "id": "JBP-ihhk__v1",
        "outputId": "d939b572-9c9e-456d-80dc-51624d8904a2"
      },
      "execution_count": null,
      "outputs": [
        {
          "output_type": "stream",
          "name": "stdout",
          "text": [
            "{1, 2, 3, 4}\n"
          ]
        }
      ]
    },
    {
      "cell_type": "markdown",
      "source": [
        "# How does the “in” keyword work differently for lists and dictionaries?\n",
        "  -The \"in\" keyword has distinct functioalities and performance characteristics when used with list and dictionaries,reflecting their different underlying data structures.\n",
        "\n",
        "  **Use of 'in' keyword in list**:\n",
        "  1. Searches for membership\n",
        "  2. Linear Search\n",
        "  3. Time Complexity"
      ],
      "metadata": {
        "id": "l0FmP98zAeIq"
      }
    },
    {
      "cell_type": "code",
      "source": [
        "a = [1,2,3,4,5]\n",
        "if 3 in a:\n",
        "  print(\"3 in a \")"
      ],
      "metadata": {
        "colab": {
          "base_uri": "https://localhost:8080/"
        },
        "id": "m9lKP2B_DcI-",
        "outputId": "665ccadd-3db3-4244-bd77-4e7296cb1d7c"
      },
      "execution_count": null,
      "outputs": [
        {
          "output_type": "stream",
          "name": "stdout",
          "text": [
            "3 in a \n",
            "3 in a \n"
          ]
        }
      ]
    },
    {
      "cell_type": "markdown",
      "source": [
        "**Use of 'in' keyword for dictionaries**\n",
        "1. cheaks for key existence\n",
        "2. Hash table Lookup\n",
        "3. Time Complexity"
      ],
      "metadata": {
        "id": "CW7JV8lBEbHS"
      }
    },
    {
      "cell_type": "code",
      "source": [
        "my_dict = {'a':1, 'b':2, 'c':3}\n",
        "if 'b' in my_dict:\n",
        "  print(\" 'b' in my_dict\")"
      ],
      "metadata": {
        "colab": {
          "base_uri": "https://localhost:8080/"
        },
        "id": "BiamCojnFA2W",
        "outputId": "7888ebf1-2550-4774-a7f2-687b5d5eecc4"
      },
      "execution_count": null,
      "outputs": [
        {
          "output_type": "stream",
          "name": "stdout",
          "text": [
            " 'b' in my_dict\n"
          ]
        }
      ]
    },
    {
      "cell_type": "markdown",
      "source": [
        "# Can you modify the elements of a tuple? Explain why or why not?\n",
        "  - No,we can not directly modify the elements of a tuple in Python.\n",
        "  **Why* :tuples are inherently immutable,they can not be cahnged after creating."
      ],
      "metadata": {
        "id": "l79tN-YOFj_2"
      }
    },
    {
      "cell_type": "markdown",
      "source": [
        "# What is a nested dictionary, and give an example of its use case?\n",
        "  -In python, a nested dictionary is a dictionary where the values themselves are also dictionaries.This creates hierarchical structure,allowing to organize and store complex data efficiently.\n",
        "  **for example-**"
      ],
      "metadata": {
        "id": "MZ_AtVPSImlK"
      }
    },
    {
      "cell_type": "code",
      "source": [
        "students = {\n",
        "    \"student1\": {\n",
        "        \"name\": \"Mahima Singh\",\n",
        "        \"age\": 20,\n",
        "        \"grades\": {\"Math\": 90, \"Science\": 85, \"English\": 92}\n",
        "    },\n",
        "    \"student2\": {\n",
        "        \"name\": \"Bob\",\n",
        "        \"age\": 21,\n",
        "        \"grades\": {\"Math\": 88, \"Science\": 95, \"English\": 80}\n",
        "    }\n",
        "}"
      ],
      "metadata": {
        "id": "EdnmvGETKBA1"
      },
      "execution_count": 7,
      "outputs": []
    },
    {
      "cell_type": "markdown",
      "source": [
        "  **Uses of nested dictionaries-**\n",
        "  1. Improved data Organization\n",
        "  2. Efficient Data Retrieval\n",
        "  3. Flexibility"
      ],
      "metadata": {
        "id": "6ErUEVL9KUk7"
      }
    },
    {
      "cell_type": "markdown",
      "source": [
        "# Describe the time complexity of accessing elements in a dictionary?\n",
        "  - The time complesity of accessing an element in dictionary is o(1),which means it's constant time.This is because dictionaries use a hash table to store keys and values,which allows for direct access.\n",
        " \" Accessing elements in a dictionary is incredibly fast. It typically takes the same amount of time to find any item, regardless of how many items are stored in the dictionary. This is known as constant time complexity (O(1)).\"\n",
        "  "
      ],
      "metadata": {
        "id": "_EcAwu_FK2n_"
      }
    },
    {
      "cell_type": "markdown",
      "source": [
        "# In what situations are lists preferred over dictionaries?\n",
        "  - Lists maintain the orginal order of elements,while dictionaries do not.\n",
        "  - lists are optimized for operations like-\n",
        "   1. Iteration\n",
        "   2. Slicing\n",
        "   3. Indexing\n"
      ],
      "metadata": {
        "id": "yl4xlWYi1OrA"
      }
    },
    {
      "cell_type": "markdown",
      "source": [
        "# Why are dictionaries considered unordered, and how does that affect data retrieval?\n",
        "  - Dictionaries are considered unordered because they don't maintain any specific sequence for their key-value pairs. The order in which we insert items into a dictionary doesn't necessarily dictate the order in which they'll be stored or retrieved.\n",
        "  **How dictionaries affects data retrieval:**\n",
        "  1. Fast Lookups: dictionaries provides fast lookups to retrive a value. Also dictionary uses hashing technique to direcetly locate the corresponding value.\n",
        "  2. No Reliance on Order: to  iterate data through a dictionary to get the items in the same order as they were inserted. If we need to preserve order, you should use a list or another ordered data structure."
      ],
      "metadata": {
        "id": "7tZUSsj-3tsU"
      }
    },
    {
      "cell_type": "markdown",
      "source": [
        "# Explain the difference between a list and a dictionary in terms of data retrieval.\n",
        "  -Data retrival in terms of lists and dictionaries\n",
        "- **by Lists:**\n",
        "  1. Sequential Access: to find a specific element we need to iterate through the list, which can be a slower for large lists.\n",
        "  2. Retrieval by Index\n",
        "  **by Dictionaries:-**\n",
        "  1. Direct Access: disctionaries use a hashing technique for very fast lookups.we don't need to iterate through the entire dictionary to find a specific value.\n",
        "  2. Retrieval by key: by using a unique key"
      ],
      "metadata": {
        "id": "6OcreeV47PO5"
      }
    },
    {
      "cell_type": "markdown",
      "source": [
        "**PRACTICAL QUESTIONS AND ANSWERS**\n",
        "\n",
        "---\n",
        "\n"
      ],
      "metadata": {
        "id": "oBp3pbKw-j8P"
      }
    },
    {
      "cell_type": "markdown",
      "source": [
        "# Write a code to create a string with your name and print it?"
      ],
      "metadata": {
        "id": "2mryqLeA-5oM"
      }
    },
    {
      "cell_type": "code",
      "source": [
        "my_name = \"Mahima Singh\"\n",
        "print(my_name)"
      ],
      "metadata": {
        "colab": {
          "base_uri": "https://localhost:8080/"
        },
        "id": "xYCmw41O_R8g",
        "outputId": "60de06da-407f-4c05-97db-f81c540f0c61"
      },
      "execution_count": 10,
      "outputs": [
        {
          "output_type": "stream",
          "name": "stdout",
          "text": [
            "Mahima Singh\n"
          ]
        }
      ]
    },
    {
      "cell_type": "markdown",
      "source": [
        "# Write a code to find the length of the string \"Hello World\"?"
      ],
      "metadata": {
        "id": "gXwWO3_mAbSc"
      }
    },
    {
      "cell_type": "code",
      "source": [
        "my_string = \"Hello World\"\n",
        "length = len(my_string)\n",
        "print(length)"
      ],
      "metadata": {
        "colab": {
          "base_uri": "https://localhost:8080/"
        },
        "id": "PdAetBEjAemY",
        "outputId": "cff313e8-f71f-4d42-de7f-abc333593d81"
      },
      "execution_count": null,
      "outputs": [
        {
          "output_type": "stream",
          "name": "stdout",
          "text": [
            "11\n"
          ]
        }
      ]
    },
    {
      "cell_type": "markdown",
      "source": [
        "# Write a code to slice the first 3 characters from the string \"Python Programming?"
      ],
      "metadata": {
        "id": "6ReMMIC4BhJF"
      }
    },
    {
      "cell_type": "code",
      "source": [
        "my_string = \"Python programming\"\n",
        "sliced_string = my_string[:3]\n",
        "print(sliced_string)"
      ],
      "metadata": {
        "colab": {
          "base_uri": "https://localhost:8080/"
        },
        "id": "izbMfLS_B0Il",
        "outputId": "fa22ada7-e630-4b30-afd0-4ef1a7c6d3e7"
      },
      "execution_count": null,
      "outputs": [
        {
          "output_type": "stream",
          "name": "stdout",
          "text": [
            "Pyt\n"
          ]
        }
      ]
    },
    {
      "cell_type": "markdown",
      "source": [
        "# Write a code to convert the string \"hello\" to uppercase?\n",
        "  "
      ],
      "metadata": {
        "id": "a8jRAedhCxgJ"
      }
    },
    {
      "cell_type": "code",
      "source": [
        "text = \"hello\"\n",
        "uppercase_text = text.upper()\n",
        "print(uppercase_text)"
      ],
      "metadata": {
        "colab": {
          "base_uri": "https://localhost:8080/"
        },
        "id": "0iBcV9dCdfX_",
        "outputId": "ffbaf245-d81e-4dbe-81e4-e7c6d5824c70"
      },
      "execution_count": null,
      "outputs": [
        {
          "output_type": "stream",
          "name": "stdout",
          "text": [
            "HELLO\n"
          ]
        }
      ]
    },
    {
      "cell_type": "markdown",
      "source": [
        "# Write a code to replace the word \"apple\" with \"orange\" in the string \"I like apple."
      ],
      "metadata": {
        "id": "k7R4GINVd47-"
      }
    },
    {
      "cell_type": "code",
      "source": [
        "a = \"I like apple\"\n",
        "new_a = a.replace(\"apple\", \"orange\")\n",
        "print(new_a)"
      ],
      "metadata": {
        "colab": {
          "base_uri": "https://localhost:8080/"
        },
        "id": "ZfH94HDBd-SN",
        "outputId": "d68ebf5c-aa6c-4601-8ede-ad9dd925d2a9"
      },
      "execution_count": null,
      "outputs": [
        {
          "output_type": "stream",
          "name": "stdout",
          "text": [
            "I like orange\n"
          ]
        }
      ]
    },
    {
      "cell_type": "markdown",
      "source": [
        "# Write a code to create a list with numbers 1 to 5 and print it."
      ],
      "metadata": {
        "id": "XmnkiM1MekmU"
      }
    },
    {
      "cell_type": "code",
      "source": [
        "a =list(range(1,6))\n",
        "print(a)"
      ],
      "metadata": {
        "colab": {
          "base_uri": "https://localhost:8080/"
        },
        "id": "5ggEf9I0fUNA",
        "outputId": "5b8671ea-4d98-4413-cf70-527909a61401"
      },
      "execution_count": null,
      "outputs": [
        {
          "output_type": "stream",
          "name": "stdout",
          "text": [
            "[1, 2, 3, 4, 5]\n"
          ]
        }
      ]
    },
    {
      "cell_type": "markdown",
      "source": [
        "# Write a code to append the number 10 to the list [1, 2, 3, 4]."
      ],
      "metadata": {
        "id": "CnOiM9BUflh0"
      }
    },
    {
      "cell_type": "code",
      "source": [
        "a = [1,2,3,4]\n",
        "a.append(10)\n",
        "print(a)"
      ],
      "metadata": {
        "colab": {
          "base_uri": "https://localhost:8080/"
        },
        "id": "f4IMpYM-fpoE",
        "outputId": "4b6bbae1-00bb-424f-b55a-8ff0b3a18fe8"
      },
      "execution_count": null,
      "outputs": [
        {
          "output_type": "stream",
          "name": "stdout",
          "text": [
            "[1, 2, 3, 4, 10]\n"
          ]
        }
      ]
    },
    {
      "cell_type": "markdown",
      "source": [
        "# Write a code to remove the number 3 from the list [1, 2, 3, 4, 5]."
      ],
      "metadata": {
        "id": "WsPKKoi0f8sk"
      }
    },
    {
      "cell_type": "code",
      "source": [
        "a = [1,2,3,4,5]\n",
        "a.remove(3)\n",
        "print(a)"
      ],
      "metadata": {
        "colab": {
          "base_uri": "https://localhost:8080/"
        },
        "id": "K2veUHpjf--x",
        "outputId": "309de5c2-085a-49e7-e818-4bff1f76a8e1"
      },
      "execution_count": null,
      "outputs": [
        {
          "output_type": "stream",
          "name": "stdout",
          "text": [
            "[1, 2, 4, 5]\n"
          ]
        }
      ]
    },
    {
      "cell_type": "markdown",
      "source": [
        "# Write a code to access the second element in the list ['a', 'b', 'c', 'd']."
      ],
      "metadata": {
        "id": "koC79MvMgION"
      }
    },
    {
      "cell_type": "code",
      "source": [
        "a = ['a', 'b', 'c', 'd']\n",
        "second_element = a[1]\n",
        "print(second_element)"
      ],
      "metadata": {
        "colab": {
          "base_uri": "https://localhost:8080/"
        },
        "id": "bgCEuSQbgMmN",
        "outputId": "7d323a31-c04e-4bdd-fce8-a24158f0b4db"
      },
      "execution_count": null,
      "outputs": [
        {
          "output_type": "stream",
          "name": "stdout",
          "text": [
            "b\n"
          ]
        }
      ]
    },
    {
      "cell_type": "markdown",
      "source": [
        "# Write a code to reverse the list [10, 20, 30, 40, 50]"
      ],
      "metadata": {
        "id": "fHQRjM90hCNd"
      }
    },
    {
      "cell_type": "code",
      "source": [
        "a = [10, 20, 30, 40, 50]\n",
        "reversed_b = a[::-1]\n",
        "print(reversed_b)"
      ],
      "metadata": {
        "colab": {
          "base_uri": "https://localhost:8080/"
        },
        "id": "RO3e6-rDiYdy",
        "outputId": "4ddb1036-d616-4ccd-825b-99034c521bb0"
      },
      "execution_count": null,
      "outputs": [
        {
          "output_type": "stream",
          "name": "stdout",
          "text": [
            "[50, 40, 30, 20, 10]\n"
          ]
        }
      ]
    },
    {
      "cell_type": "markdown",
      "source": [
        "# Write a code to create a tuple with the elements 10, 20, 30 and print it."
      ],
      "metadata": {
        "id": "GO2bCjEYijj0"
      }
    },
    {
      "cell_type": "code",
      "source": [
        "my_tuple = (10, 20, 30)\n",
        "my_tuple"
      ],
      "metadata": {
        "colab": {
          "base_uri": "https://localhost:8080/"
        },
        "id": "8SaDF_edjAoI",
        "outputId": "cdd5c43d-1655-430f-fdd8-7eb0ac89a4ae"
      },
      "execution_count": null,
      "outputs": [
        {
          "output_type": "execute_result",
          "data": {
            "text/plain": [
              "(10, 20, 30)"
            ]
          },
          "metadata": {},
          "execution_count": 16
        }
      ]
    },
    {
      "cell_type": "markdown",
      "source": [
        "#  Write a code to access the first element of the tuple ('apple', 'banana', 'cherry')."
      ],
      "metadata": {
        "id": "KNIpLzqQjC2r"
      }
    },
    {
      "cell_type": "code",
      "source": [
        "my_tuple = ('apple', 'banana', 'cherry')\n",
        "first_element = my_tuple[0]\n",
        "first_element"
      ],
      "metadata": {
        "colab": {
          "base_uri": "https://localhost:8080/",
          "height": 35
        },
        "id": "_ZyLSgMwjRx5",
        "outputId": "acde262d-b925-4907-e185-5499f514a8dd"
      },
      "execution_count": null,
      "outputs": [
        {
          "output_type": "execute_result",
          "data": {
            "text/plain": [
              "'apple'"
            ],
            "application/vnd.google.colaboratory.intrinsic+json": {
              "type": "string"
            }
          },
          "metadata": {},
          "execution_count": 17
        }
      ]
    },
    {
      "cell_type": "markdown",
      "source": [
        "#  Write a code to count how many times the number 2 appears in the tuple (1, 2, 3, 2, 4, 2)."
      ],
      "metadata": {
        "id": "d1F9QuhGjT_T"
      }
    },
    {
      "cell_type": "code",
      "source": [
        "my_tuple = (1, 2, 3, 2, 4, 2)\n",
        "count = my_tuple.count(2)\n",
        "count"
      ],
      "metadata": {
        "colab": {
          "base_uri": "https://localhost:8080/"
        },
        "id": "oQ73eWnQjkNz",
        "outputId": "16dd2ecd-1375-4e6b-9c0b-63a44dab0862"
      },
      "execution_count": null,
      "outputs": [
        {
          "output_type": "execute_result",
          "data": {
            "text/plain": [
              "3"
            ]
          },
          "metadata": {},
          "execution_count": 18
        }
      ]
    },
    {
      "cell_type": "markdown",
      "source": [
        "# Write a code to find the index of the element \"cat\" in the tuple ('dog', 'cat', 'rabbit')"
      ],
      "metadata": {
        "id": "TSZOXBJujmNl"
      }
    },
    {
      "cell_type": "code",
      "source": [
        "my_tuple = ('dog', 'cat', 'rabbit')\n",
        "index = my_tuple.index('cat')\n",
        "index"
      ],
      "metadata": {
        "colab": {
          "base_uri": "https://localhost:8080/"
        },
        "id": "QD3DefQBjyVd",
        "outputId": "988a0ab5-11fa-4e52-87d8-84d17db64ed0"
      },
      "execution_count": null,
      "outputs": [
        {
          "output_type": "execute_result",
          "data": {
            "text/plain": [
              "1"
            ]
          },
          "metadata": {},
          "execution_count": 19
        }
      ]
    },
    {
      "cell_type": "markdown",
      "source": [
        "#  Write a code to check if the element \"banana\" is in the tuple ('apple', 'orange', 'banana')."
      ],
      "metadata": {
        "id": "XBn_2XHCj2gQ"
      }
    },
    {
      "cell_type": "code",
      "source": [
        "my_tuple = ('apple', 'orange', 'banana')\n",
        "if 'banana' in my_tuple:\n",
        "  print(\"banana is present in the tuple\")\n",
        "else:\n",
        "  print(\"banana is not present in the tuple\")"
      ],
      "metadata": {
        "colab": {
          "base_uri": "https://localhost:8080/"
        },
        "id": "Dt3XG3BwkHrJ",
        "outputId": "57fe4ef7-aa96-4ba2-8fda-3f7955ba1056"
      },
      "execution_count": null,
      "outputs": [
        {
          "output_type": "stream",
          "name": "stdout",
          "text": [
            "banana is present in the tuple\n"
          ]
        }
      ]
    },
    {
      "cell_type": "markdown",
      "source": [
        "#  Write a code to create a set with the elements 1, 2, 3, 4, 5 and print it"
      ],
      "metadata": {
        "id": "hIho1ZRlkLig"
      }
    },
    {
      "cell_type": "code",
      "source": [
        "my_set = {1, 2, 3, 4, 5}\n",
        "my_set"
      ],
      "metadata": {
        "colab": {
          "base_uri": "https://localhost:8080/"
        },
        "id": "Oq6xIwBykWm2",
        "outputId": "4f0cfa4f-6153-4543-e844-9f5560397168"
      },
      "execution_count": null,
      "outputs": [
        {
          "output_type": "execute_result",
          "data": {
            "text/plain": [
              "{1, 2, 3, 4, 5}"
            ]
          },
          "metadata": {},
          "execution_count": 21
        }
      ]
    },
    {
      "cell_type": "markdown",
      "source": [
        "#  Write a code to add the element 6 to the set {1, 2, 3, 4}."
      ],
      "metadata": {
        "id": "mBYSPW0akYWN"
      }
    },
    {
      "cell_type": "code",
      "source": [
        "my_set = {1, 2, 3, 4}\n",
        "my_set.add(6)\n",
        "my_set"
      ],
      "metadata": {
        "colab": {
          "base_uri": "https://localhost:8080/"
        },
        "id": "7cQ9_ffYkjr5",
        "outputId": "ab02aa4b-980d-4721-b4fe-5cabc50476b9"
      },
      "execution_count": null,
      "outputs": [
        {
          "output_type": "execute_result",
          "data": {
            "text/plain": [
              "{1, 2, 3, 4, 6}"
            ]
          },
          "metadata": {},
          "execution_count": 22
        }
      ]
    },
    {
      "cell_type": "markdown",
      "source": [
        "#  Write a code to create a tuple with the elements 10, 20, 30 and print it."
      ],
      "metadata": {
        "id": "7blxvfe5klQK"
      }
    },
    {
      "cell_type": "code",
      "source": [
        "my_tuple = (10, 20, 30)\n",
        "my_tuple"
      ],
      "metadata": {
        "colab": {
          "base_uri": "https://localhost:8080/"
        },
        "id": "EAtyRJcDkxXG",
        "outputId": "c9b4fd4c-525b-4716-a6a8-d9cf387505d5"
      },
      "execution_count": null,
      "outputs": [
        {
          "output_type": "execute_result",
          "data": {
            "text/plain": [
              "(10, 20, 30)"
            ]
          },
          "metadata": {},
          "execution_count": 23
        }
      ]
    },
    {
      "cell_type": "markdown",
      "source": [
        "#  Write a code to access the first element of the tuple ('apple', 'banana', 'cherry')."
      ],
      "metadata": {
        "id": "cRyu4Tpdk5Sy"
      }
    },
    {
      "cell_type": "code",
      "source": [
        "my_tuple = ('apple', 'banana', 'cherry')\n",
        "first_element = my_tuple[0]\n",
        "first_element"
      ],
      "metadata": {
        "colab": {
          "base_uri": "https://localhost:8080/",
          "height": 35
        },
        "id": "7xYuhmKzlD5H",
        "outputId": "27909c05-55b3-45cd-da94-2fbc62adb9ad"
      },
      "execution_count": null,
      "outputs": [
        {
          "output_type": "execute_result",
          "data": {
            "text/plain": [
              "'apple'"
            ],
            "application/vnd.google.colaboratory.intrinsic+json": {
              "type": "string"
            }
          },
          "metadata": {},
          "execution_count": 24
        }
      ]
    },
    {
      "cell_type": "markdown",
      "source": [
        "#  Write a code to count how many times the number 2 appears in the tuple (1, 2, 3, 2, 4, 2)."
      ],
      "metadata": {
        "id": "76oEZxGllHbc"
      }
    },
    {
      "cell_type": "code",
      "source": [
        "my_tuple = (1, 2, 3, 2, 4, 2)\n",
        "count = my_tuple.count(2)\n",
        "count"
      ],
      "metadata": {
        "colab": {
          "base_uri": "https://localhost:8080/"
        },
        "id": "nQ-f3wDClTFM",
        "outputId": "18732b86-530a-46ae-b25b-9f591c9b7a2f"
      },
      "execution_count": null,
      "outputs": [
        {
          "output_type": "execute_result",
          "data": {
            "text/plain": [
              "3"
            ]
          },
          "metadata": {},
          "execution_count": 25
        }
      ]
    },
    {
      "cell_type": "markdown",
      "source": [
        "#  Write a code to find the index of the element \"cat\" in the tuple ('dog', 'cat', 'rabbit')."
      ],
      "metadata": {
        "id": "Mr0VLi1slXBt"
      }
    },
    {
      "cell_type": "code",
      "source": [
        "my_tuple = ('dog', 'cat', 'rabbit')\n",
        "index = my_tuple.index('cat')\n",
        "index"
      ],
      "metadata": {
        "colab": {
          "base_uri": "https://localhost:8080/"
        },
        "id": "rAg5p_yolf-x",
        "outputId": "2ee204bc-3426-4c33-f579-6971ca4819cb"
      },
      "execution_count": null,
      "outputs": [
        {
          "output_type": "execute_result",
          "data": {
            "text/plain": [
              "1"
            ]
          },
          "metadata": {},
          "execution_count": 26
        }
      ]
    }
  ]
}